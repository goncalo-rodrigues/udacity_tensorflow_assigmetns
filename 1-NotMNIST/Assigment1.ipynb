{
 "cells": [
  {
   "cell_type": "code",
   "execution_count": 13,
   "metadata": {
    "collapsed": false
   },
   "outputs": [],
   "source": [
    "# These are all the modules we'll be using later. Make sure you can import them\n",
    "# before proceeding further.\n",
    "from __future__ import print_function\n",
    "import matplotlib.pyplot as plt\n",
    "import numpy as np\n",
    "import os\n",
    "import sys\n",
    "import tarfile\n",
    "from IPython.display import display, Image\n",
    "from scipy import ndimage\n",
    "from sklearn.linear_model import LogisticRegression\n",
    "from six.moves.urllib.request import urlretrieve\n",
    "from six.moves import cPickle as pickle\n",
    "from random import randrange\n",
    "import pylab\n",
    "import sklearn.linear_model as lm\n",
    "\n",
    "# Config the matplotlib backend as plotting inline in IPython\n",
    "%matplotlib inline"
   ]
  },
  {
   "cell_type": "code",
   "execution_count": 9,
   "metadata": {
    "collapsed": false
   },
   "outputs": [
    {
     "data": {
      "image/png": "[encoded data removed]",
      "text/plain": [
       "<IPython.core.display.Image object>"
      ]
     },
     "metadata": {},
     "output_type": "display_data"
    },
    {
     "data": {
      "image/png": "[encoded data removed]",
      "text/plain": [
       "<IPython.core.display.Image object>"
      ]
     },
     "metadata": {},
     "output_type": "display_data"
    },
    {
     "data": {
      "image/png": "[encoded data removed]",
      "text/plain": [
       "<IPython.core.display.Image object>"
      ]
     },
     "metadata": {},
     "output_type": "display_data"
    },
    {
     "data": {
      "image/png": "[encoded data removed]",
      "text/plain": [
       "<IPython.core.display.Image object>"
      ]
     },
     "metadata": {},
     "output_type": "display_data"
    },
    {
     "data": {
      "image/png": "[encoded data removed]",
      "text/plain": [
       "<IPython.core.display.Image object>"
      ]
     },
     "metadata": {},
     "output_type": "display_data"
    },
    {
     "data": {
      "image/png": "[encoded data removed]",
      "text/plain": [
       "<IPython.core.display.Image object>"
      ]
     },
     "metadata": {},
     "output_type": "display_data"
    },
    {
     "data": {
      "image/png": "[encoded data removed]",
      "text/plain": [
       "<IPython.core.display.Image object>"
      ]
     },
     "metadata": {},
     "output_type": "display_data"
    },
    {
     "data": {
      "image/png": "[encoded data removed]",
      "text/plain": [
       "<IPython.core.display.Image object>"
      ]
     },
     "metadata": {},
     "output_type": "display_data"
    },
    {
     "data": {
      "image/png": "[encoded data removed]",
      "text/plain": [
       "<IPython.core.display.Image object>"
      ]
     },
     "metadata": {},
     "output_type": "display_data"
    },
    {
     "data": {
      "image/png": "[encoded data removed]",
      "text/plain": [
       "<IPython.core.display.Image object>"
      ]
     },
     "metadata": {},
     "output_type": "display_data"
    }
   ],
   "source": [
    "# Problem 1\n",
    "for letter_i in range(10):\n",
    "    letter = chr(ord('A') + letter_i)\n",
    "    directory_name = \"/home/goncalo/udacity_tensorflow_assigmetns/1-NotMNIST/notMNIST_small/\" + letter\n",
    "    files = os.listdir(directory_name)\n",
    "    display(Image(filename=os.path.join(directory_name,files[randrange(len(files))])))"
   ]
  },
  {
   "cell_type": "code",
   "execution_count": 2,
   "metadata": {
    "collapsed": false,
    "scrolled": false
   },
   "outputs": [
    {
     "name": "stdout",
     "output_type": "stream",
     "text": [
      "/home/goncalo/udacity_tensorflow_assigmetns/1-NotMNIST/notMNIST_large/A.pickle already present - Skipping pickling.\n",
      "/home/goncalo/udacity_tensorflow_assigmetns/1-NotMNIST/notMNIST_large/B.pickle already present - Skipping pickling.\n",
      "/home/goncalo/udacity_tensorflow_assigmetns/1-NotMNIST/notMNIST_large/C.pickle already present - Skipping pickling.\n",
      "/home/goncalo/udacity_tensorflow_assigmetns/1-NotMNIST/notMNIST_large/D.pickle already present - Skipping pickling.\n",
      "/home/goncalo/udacity_tensorflow_assigmetns/1-NotMNIST/notMNIST_large/E.pickle already present - Skipping pickling.\n",
      "/home/goncalo/udacity_tensorflow_assigmetns/1-NotMNIST/notMNIST_large/F.pickle already present - Skipping pickling.\n",
      "/home/goncalo/udacity_tensorflow_assigmetns/1-NotMNIST/notMNIST_large/G.pickle already present - Skipping pickling.\n",
      "/home/goncalo/udacity_tensorflow_assigmetns/1-NotMNIST/notMNIST_large/H.pickle already present - Skipping pickling.\n",
      "/home/goncalo/udacity_tensorflow_assigmetns/1-NotMNIST/notMNIST_large/I.pickle already present - Skipping pickling.\n",
      "/home/goncalo/udacity_tensorflow_assigmetns/1-NotMNIST/notMNIST_large/J.pickle already present - Skipping pickling.\n",
      "/home/goncalo/udacity_tensorflow_assigmetns/1-NotMNIST/notMNIST_small/A.pickle already present - Skipping pickling.\n",
      "/home/goncalo/udacity_tensorflow_assigmetns/1-NotMNIST/notMNIST_small/B.pickle already present - Skipping pickling.\n",
      "/home/goncalo/udacity_tensorflow_assigmetns/1-NotMNIST/notMNIST_small/C.pickle already present - Skipping pickling.\n",
      "/home/goncalo/udacity_tensorflow_assigmetns/1-NotMNIST/notMNIST_small/D.pickle already present - Skipping pickling.\n",
      "/home/goncalo/udacity_tensorflow_assigmetns/1-NotMNIST/notMNIST_small/E.pickle already present - Skipping pickling.\n",
      "/home/goncalo/udacity_tensorflow_assigmetns/1-NotMNIST/notMNIST_small/F.pickle already present - Skipping pickling.\n",
      "/home/goncalo/udacity_tensorflow_assigmetns/1-NotMNIST/notMNIST_small/G.pickle already present - Skipping pickling.\n",
      "/home/goncalo/udacity_tensorflow_assigmetns/1-NotMNIST/notMNIST_small/H.pickle already present - Skipping pickling.\n",
      "/home/goncalo/udacity_tensorflow_assigmetns/1-NotMNIST/notMNIST_small/I.pickle already present - Skipping pickling.\n",
      "/home/goncalo/udacity_tensorflow_assigmetns/1-NotMNIST/notMNIST_small/J.pickle already present - Skipping pickling.\n"
     ]
    }
   ],
   "source": [
    "image_size = 28  # Pixel width and height.\n",
    "pixel_depth = 255.0  # Number of levels per pixel.\n",
    "\n",
    "def load_letter(folder, min_num_images):\n",
    "  \"\"\"Load the data for a single letter label.\"\"\"\n",
    "  image_files = os.listdir(folder)\n",
    "  dataset = np.ndarray(shape=(len(image_files), image_size, image_size),\n",
    "                         dtype=np.float32)\n",
    "  print(folder)\n",
    "  num_images = 0\n",
    "  for image in image_files:\n",
    "    image_file = os.path.join(folder, image)\n",
    "    try:\n",
    "      image_data = (ndimage.imread(image_file, mode='F').astype(float) - \n",
    "                    pixel_depth / 2) / pixel_depth\n",
    "      if image_data.shape != (image_size, image_size):\n",
    "        raise Exception('Unexpected image (%s) shape: %s' % (image_file, str(image_data.shape)))\n",
    "      dataset[num_images, :, :] = image_data\n",
    "      num_images = num_images + 1\n",
    "    except IOError as e:\n",
    "      print('Could not read:', image_file, ':', e, '- it\\'s ok, skipping.')\n",
    "    \n",
    "  dataset = dataset[0:num_images, :, :]\n",
    "  if num_images < min_num_images:\n",
    "    raise Exception('Many fewer images than expected: %d < %d' %\n",
    "                    (num_images, min_num_images))\n",
    "    \n",
    "  print('Full dataset tensor:', dataset.shape)\n",
    "  print('Mean:', np.mean(dataset))\n",
    "  print('Standard deviation:', np.std(dataset))\n",
    "  return dataset\n",
    "        \n",
    "def maybe_pickle(data_folders, min_num_images_per_class, force=False):\n",
    "  dataset_names = []\n",
    "  for folder in data_folders:\n",
    "    set_filename = folder + '.pickle'\n",
    "    dataset_names.append(set_filename)\n",
    "    if os.path.exists(set_filename) and not force:\n",
    "      # You may override by setting force=True.\n",
    "      print('%s already present - Skipping pickling.' % set_filename)\n",
    "    else:\n",
    "      print('Pickling %s.' % set_filename)\n",
    "      dataset = load_letter(folder, min_num_images_per_class)\n",
    "      try:\n",
    "        with open(set_filename, 'wb') as f:\n",
    "          pickle.dump(dataset, f, pickle.HIGHEST_PROTOCOL)\n",
    "      except Exception as e:\n",
    "        print('Unable to save data to', set_filename, ':', e)\n",
    "  \n",
    "  return dataset_names\n",
    "\n",
    "train_folder_name = \"/home/goncalo/udacity_tensorflow_assigmetns/1-NotMNIST/notMNIST_large/\"\n",
    "train_folders = [train_folder_name + x for x in (\"A\", \"B\", \"C\", \"D\", \"E\", \"F\", \"G\", \"H\", \"I\", \"J\")]\n",
    "test_folder_name = \"/home/goncalo/udacity_tensorflow_assigmetns/1-NotMNIST/notMNIST_small/\"\n",
    "test_folders = [test_folder_name + x for x in (\"A\", \"B\", \"C\", \"D\", \"E\", \"F\", \"G\", \"H\", \"I\", \"J\")]\n",
    "\n",
    "train_datasets = maybe_pickle(train_folders, 45000)\n",
    "test_datasets = maybe_pickle(test_folders, 1800)"
   ]
  },
  {
   "cell_type": "code",
   "execution_count": 4,
   "metadata": {
    "collapsed": false
   },
   "outputs": [
    {
     "data": {
      "text/plain": [
       "['A.pickle',\n",
       " 'B',\n",
       " 'H',\n",
       " 'I.pickle',\n",
       " 'F',\n",
       " 'B.pickle',\n",
       " 'G.pickle',\n",
       " 'E.pickle',\n",
       " 'E',\n",
       " 'A',\n",
       " 'D.pickle',\n",
       " 'F.pickle',\n",
       " 'C',\n",
       " 'I',\n",
       " 'C.pickle',\n",
       " 'G',\n",
       " 'J.pickle',\n",
       " 'D',\n",
       " 'H.pickle',\n",
       " 'J']"
      ]
     },
     "execution_count": 4,
     "metadata": {},
     "output_type": "execute_result"
    }
   ],
   "source": [
    "os.listdir(\"/home/goncalo/udacity_tensorflow_assigmetns/1-NotMNIST/notMNIST_large/\")"
   ]
  },
  {
   "cell_type": "code",
   "execution_count": 3,
   "metadata": {
    "collapsed": false
   },
   "outputs": [
    {
     "data": {
      "image/png": "[encoded data removed]",
      "text/plain": [
       "<matplotlib.figure.Figure at 0x7f153e7b7cd0>"
      ]
     },
     "metadata": {},
     "output_type": "display_data"
    }
   ],
   "source": [
    "pickle_file = train_datasets[0]  # index 0 should be all As, 1 = all Bs, etc.\n",
    "with open(pickle_file, 'rb') as f:\n",
    "    letter_set = pickle.load(f)  # unpickle\n",
    "    sample_idx = np.random.randint(len(letter_set))  # pick a random image index\n",
    "    sample_image = letter_set[sample_idx, :, :]  # extract a 2D slice\n",
    "    plt.figure()\n",
    "    plt.imshow(sample_image)  # display it\n",
    "    "
   ]
  },
  {
   "cell_type": "code",
   "execution_count": 6,
   "metadata": {
    "collapsed": false
   },
   "outputs": [
    {
     "name": "stdout",
     "output_type": "stream",
     "text": [
      "52909\n",
      "52911\n",
      "52912\n",
      "52911\n",
      "52912\n",
      "52912\n",
      "52912\n",
      "52912\n",
      "52912\n",
      "52911\n"
     ]
    }
   ],
   "source": [
    "#problem 3\n",
    "for data_set in train_datasets:\n",
    "    count = np.load(data_set).shape[0]\n",
    "    print(count)"
   ]
  },
  {
   "cell_type": "code",
   "execution_count": 3,
   "metadata": {
    "collapsed": false
   },
   "outputs": [
    {
     "name": "stdout",
     "output_type": "stream",
     "text": [
      "Training: (200000, 28, 28) (200000,)\n",
      "Validation: (10000, 28, 28) (10000,)\n",
      "Testing: (10000, 28, 28) (10000,)\n"
     ]
    }
   ],
   "source": [
    "def make_arrays(nb_rows, img_size):\n",
    "  if nb_rows:\n",
    "    dataset = np.ndarray((nb_rows, img_size, img_size), dtype=np.float32)\n",
    "    labels = np.ndarray(nb_rows, dtype=np.int32)\n",
    "  else:\n",
    "    dataset, labels = None, None\n",
    "  return dataset, labels\n",
    "\n",
    "def merge_datasets(pickle_files, train_size, valid_size=0):\n",
    "  num_classes = len(pickle_files)\n",
    "  valid_dataset, valid_labels = make_arrays(valid_size, image_size)\n",
    "  train_dataset, train_labels = make_arrays(train_size, image_size)\n",
    "  vsize_per_class = valid_size // num_classes\n",
    "  tsize_per_class = train_size // num_classes\n",
    "    \n",
    "  start_v, start_t = 0, 0\n",
    "  end_v, end_t = vsize_per_class, tsize_per_class\n",
    "  end_l = vsize_per_class+tsize_per_class\n",
    "  for label, pickle_file in enumerate(pickle_files):       \n",
    "    try:\n",
    "      with open(pickle_file, 'rb') as f:\n",
    "        letter_set = pickle.load(f)\n",
    "        # let's shuffle the letters to have random validation and training set\n",
    "        np.random.shuffle(letter_set)\n",
    "        if valid_dataset is not None:\n",
    "          valid_letter = letter_set[:vsize_per_class, :, :]\n",
    "          valid_dataset[start_v:end_v, :, :] = valid_letter\n",
    "          valid_labels[start_v:end_v] = label\n",
    "          start_v += vsize_per_class\n",
    "          end_v += vsize_per_class\n",
    "                    \n",
    "        train_letter = letter_set[vsize_per_class:end_l, :, :]\n",
    "        train_dataset[start_t:end_t, :, :] = train_letter\n",
    "        train_labels[start_t:end_t] = label\n",
    "        start_t += tsize_per_class\n",
    "        end_t += tsize_per_class\n",
    "    except Exception as e:\n",
    "      print('Unable to process data from', pickle_file, ':', e)\n",
    "      raise\n",
    "    \n",
    "  return valid_dataset, valid_labels, train_dataset, train_labels\n",
    "            \n",
    "            \n",
    "train_size = 200000\n",
    "valid_size = 10000\n",
    "test_size = 10000\n",
    "\n",
    "valid_dataset, valid_labels, train_dataset, train_labels = merge_datasets(\n",
    "  train_datasets, train_size, valid_size)\n",
    "_, _, test_dataset, test_labels = merge_datasets(test_datasets, test_size)\n",
    "\n",
    "print('Training:', train_dataset.shape, train_labels.shape)\n",
    "print('Validation:', valid_dataset.shape, valid_labels.shape)\n",
    "print('Testing:', test_dataset.shape, test_labels.shape)"
   ]
  },
  {
   "cell_type": "code",
   "execution_count": 4,
   "metadata": {
    "collapsed": true
   },
   "outputs": [],
   "source": [
    "def randomize(dataset, labels):\n",
    "  permutation = np.random.permutation(labels.shape[0])\n",
    "  shuffled_dataset = dataset[permutation,:,:]\n",
    "  shuffled_labels = labels[permutation]\n",
    "  return shuffled_dataset, shuffled_labels\n",
    "train_dataset, train_labels = randomize(train_dataset, train_labels)\n",
    "test_dataset, test_labels = randomize(test_dataset, test_labels)\n",
    "valid_dataset, valid_labels = randomize(valid_dataset, valid_labels)"
   ]
  },
  {
   "cell_type": "code",
   "execution_count": 5,
   "metadata": {
    "collapsed": true
   },
   "outputs": [],
   "source": [
    "pickle_file = 'notMNIST.pickle'\n",
    "\n",
    "try:\n",
    "  f = open(pickle_file, 'wb')\n",
    "  save = {\n",
    "    'train_dataset': train_dataset,\n",
    "    'train_labels': train_labels,\n",
    "    'valid_dataset': valid_dataset,\n",
    "    'valid_labels': valid_labels,\n",
    "    'test_dataset': test_dataset,\n",
    "    'test_labels': test_labels,\n",
    "    }\n",
    "  pickle.dump(save, f, pickle.HIGHEST_PROTOCOL)\n",
    "  f.close()\n",
    "except Exception as e:\n",
    "  print('Unable to save data to', pickle_file, ':', e)\n",
    "  raise"
   ]
  },
  {
   "cell_type": "code",
   "execution_count": 6,
   "metadata": {
    "collapsed": false
   },
   "outputs": [
    {
     "data": {
      "image/png": "[encoded data removed]",
      "text/plain": [
       "<matplotlib.figure.Figure at 0x7f153ded24d0>"
      ]
     },
     "metadata": {},
     "output_type": "display_data"
    }
   ],
   "source": [
    "# Problem 4\n",
    "f = plt.figure()\n",
    "for i in range(0,10):\n",
    "    plot = f.add_subplot(1,10,i+1)\n",
    "    plt.imshow(train_dataset[i])\n",
    "    plot.axes.get_xaxis().set_visible(False)\n",
    "    plot.axes.get_yaxis().set_visible(False)\n",
    "plt.show()"
   ]
  },
  {
   "cell_type": "code",
   "execution_count": null,
   "metadata": {
    "collapsed": false
   },
   "outputs": [],
   "source": [
    "# Problem 5\n",
    "i = 0\n",
    "f = plt.figure()\n",
    "for train_figure in train_dataset:\n",
    "    for test_figure in test_dataset:\n",
    "        if (np.equal(train_figure,test_figure).all()):\n",
    "            i+=1\n",
    "            if (i < 10):\n",
    "                plot = f.add_subplot(1,20,2*i+1)\n",
    "                plt.imshow(train_figure)\n",
    "                plot.axes.get_xaxis().set_visible(False)\n",
    "                plot.axes.get_yaxis().set_visible(False)\n",
    "                plot = f.add_subplot(1,20,2*i+2)\n",
    "                plt.imshow(test_figure)\n",
    "                plot.axes.get_xaxis().set_visible(False)\n",
    "                plot.axes.get_yaxis().set_visible(False)\n",
    "            break\n",
    "plt.show()\n",
    "i"
   ]
  },
  {
   "cell_type": "code",
   "execution_count": 39,
   "metadata": {
    "collapsed": false
   },
   "outputs": [
    {
     "name": "stdout",
     "output_type": "stream",
     "text": [
      "Training with 50 samples, got accuracy 0.706000\n",
      "Training with 100 samples, got accuracy 0.791500\n",
      "Training with 500 samples, got accuracy 0.823000\n",
      "Training with 2000 samples, got accuracy 0.838200\n"
     ]
    }
   ],
   "source": [
    "# Problem 6\n",
    "model = lm.LogisticRegression()\n",
    "size, nx, ny = test_dataset.shape\n",
    "for n in (50, 100, 500, 2000):\n",
    "    model = lm.LogisticRegression()\n",
    "    reshaped_train_dataset = np.reshape(train_dataset[:n], (n, nx*ny))\n",
    "    reshaped_train_labels = train_labels[:n].ravel()\n",
    "    model.fit(reshaped_train_dataset, reshaped_train_labels)\n",
    "    reshaped_test_dataset = np.reshape(test_dataset, (test_dataset.shape[0], nx*ny))\n",
    "    reshaped_test_labels = test_labels.ravel()\n",
    "    print(\"Training with %d samples, got accuracy %f\" % (n, model.score(reshaped_test_dataset, reshaped_test_labels)))"
   ]
  },
  {
   "cell_type": "code",
   "execution_count": 38,
   "metadata": {
    "collapsed": false
   },
   "outputs": [
    {
     "data": {
      "image/png": "[encoded data removed]",
      "text/plain": [
       "<matplotlib.figure.Figure at 0x7f844ce764d0>"
      ]
     },
     "metadata": {},
     "output_type": "display_data"
    }
   ],
   "source": [
    "# Visualizing\n",
    "def letter(i):\n",
    "    return chr(ord('A')+i)\n",
    "f = plt.figure()\n",
    "for i in range(0,10):\n",
    "    plot = f.add_subplot(1,10,i+1)\n",
    "    plt.imshow(valid_dataset[i])\n",
    "    plt.title(letter(model.predict(valid_dataset[i].ravel().reshape(1,-1))) + \"(\" + letter(valid_labels[i]) + \")\")\n",
    "    plot.axes.get_xaxis().set_visible(False)\n",
    "    plot.axes.get_yaxis().set_visible(False)\n",
    "plt.show()"
   ]
  },
  {
   "cell_type": "code",
   "execution_count": null,
   "metadata": {
    "collapsed": true
   },
   "outputs": [],
   "source": []
  }
 ],
 "metadata": {
  "kernelspec": {
   "display_name": "Python 2",
   "language": "python",
   "name": "python2"
  },
  "language_info": {
   "codemirror_mode": {
    "name": "ipython",
    "version": 2
   },
   "file_extension": ".py",
   "mimetype": "text/x-python",
   "name": "python",
   "nbconvert_exporter": "python",
   "pygments_lexer": "ipython2",
   "version": "2.7.6"
  }
 },
 "nbformat": 4,
 "nbformat_minor": 1
}
