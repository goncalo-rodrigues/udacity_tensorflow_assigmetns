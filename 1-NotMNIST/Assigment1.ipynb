{
 "cells": [
  {
   "cell_type": "code",
   "execution_count": 21,
   "metadata": {
    "collapsed": true
   },
   "outputs": [],
   "source": [
    "# These are all the modules we'll be using later. Make sure you can import them\n",
    "# before proceeding further.\n",
    "from __future__ import print_function\n",
    "import matplotlib.pyplot as plt\n",
    "import numpy as np\n",
    "import os\n",
    "import sys\n",
    "import tarfile\n",
    "from IPython.display import display, Image\n",
    "from scipy import ndimage\n",
    "from sklearn.linear_model import LogisticRegression\n",
    "from six.moves.urllib.request import urlretrieve\n",
    "from six.moves import cPickle as pickle\n",
    "from random import randrange\n",
    "import pylab\n",
    "\n",
    "# Config the matplotlib backend as plotting inline in IPython\n",
    "%matplotlib inline"
   ]
  },
  {
   "cell_type": "code",
   "execution_count": 4,
   "metadata": {
    "collapsed": false
   },
   "outputs": [
    {
     "data": {
      "image/png": "[encoded data removed]",
      "text/plain": [
       "<IPython.core.display.Image object>"
      ]
     },
     "metadata": {},
     "output_type": "display_data"
    }
   ],
   "source": [
    "display(Image(filename=\"/home/goncalo/udacity_tensorflow_assigmetns/1-NotMNIST/notMNIST_small/A/SWNlY3ViZS50dGY=.png\"))"
   ]
  },
  {
   "cell_type": "code",
   "execution_count": 6,
   "metadata": {
    "collapsed": false,
    "scrolled": false
   },
   "outputs": [
    {
     "name": "stdout",
     "output_type": "stream",
     "text": [
      "/home/goncalo/udacity_tensorflow_assigmetns/1-NotMNIST/notMNIST_large/A.pickle already present - Skipping pickling.\n",
      "/home/goncalo/udacity_tensorflow_assigmetns/1-NotMNIST/notMNIST_large/B.pickle already present - Skipping pickling.\n",
      "/home/goncalo/udacity_tensorflow_assigmetns/1-NotMNIST/notMNIST_large/C.pickle already present - Skipping pickling.\n",
      "/home/goncalo/udacity_tensorflow_assigmetns/1-NotMNIST/notMNIST_large/D.pickle already present - Skipping pickling.\n",
      "/home/goncalo/udacity_tensorflow_assigmetns/1-NotMNIST/notMNIST_large/E.pickle already present - Skipping pickling.\n",
      "/home/goncalo/udacity_tensorflow_assigmetns/1-NotMNIST/notMNIST_large/F.pickle already present - Skipping pickling.\n",
      "/home/goncalo/udacity_tensorflow_assigmetns/1-NotMNIST/notMNIST_large/G.pickle already present - Skipping pickling.\n",
      "/home/goncalo/udacity_tensorflow_assigmetns/1-NotMNIST/notMNIST_large/H.pickle already present - Skipping pickling.\n",
      "/home/goncalo/udacity_tensorflow_assigmetns/1-NotMNIST/notMNIST_large/I.pickle already present - Skipping pickling.\n",
      "/home/goncalo/udacity_tensorflow_assigmetns/1-NotMNIST/notMNIST_large/J.pickle already present - Skipping pickling.\n",
      "/home/goncalo/udacity_tensorflow_assigmetns/1-NotMNIST/notMNIST_small/A.pickle already present - Skipping pickling.\n",
      "/home/goncalo/udacity_tensorflow_assigmetns/1-NotMNIST/notMNIST_small/B.pickle already present - Skipping pickling.\n",
      "/home/goncalo/udacity_tensorflow_assigmetns/1-NotMNIST/notMNIST_small/C.pickle already present - Skipping pickling.\n",
      "/home/goncalo/udacity_tensorflow_assigmetns/1-NotMNIST/notMNIST_small/D.pickle already present - Skipping pickling.\n",
      "/home/goncalo/udacity_tensorflow_assigmetns/1-NotMNIST/notMNIST_small/E.pickle already present - Skipping pickling.\n",
      "/home/goncalo/udacity_tensorflow_assigmetns/1-NotMNIST/notMNIST_small/F.pickle already present - Skipping pickling.\n",
      "/home/goncalo/udacity_tensorflow_assigmetns/1-NotMNIST/notMNIST_small/G.pickle already present - Skipping pickling.\n",
      "/home/goncalo/udacity_tensorflow_assigmetns/1-NotMNIST/notMNIST_small/H.pickle already present - Skipping pickling.\n",
      "/home/goncalo/udacity_tensorflow_assigmetns/1-NotMNIST/notMNIST_small/I.pickle already present - Skipping pickling.\n",
      "/home/goncalo/udacity_tensorflow_assigmetns/1-NotMNIST/notMNIST_small/J.pickle already present - Skipping pickling.\n"
     ]
    }
   ],
   "source": [
    "image_size = 28  # Pixel width and height.\n",
    "pixel_depth = 255.0  # Number of levels per pixel.\n",
    "\n",
    "def load_letter(folder, min_num_images):\n",
    "  \"\"\"Load the data for a single letter label.\"\"\"\n",
    "  image_files = os.listdir(folder)\n",
    "  dataset = np.ndarray(shape=(len(image_files), image_size, image_size),\n",
    "                         dtype=np.float32)\n",
    "  print(folder)\n",
    "  num_images = 0\n",
    "  for image in image_files:\n",
    "    image_file = os.path.join(folder, image)\n",
    "    try:\n",
    "      image_data = (ndimage.imread(image_file, mode='F').astype(float) - \n",
    "                    pixel_depth / 2) / pixel_depth\n",
    "      if image_data.shape != (image_size, image_size):\n",
    "        raise Exception('Unexpected image (%s) shape: %s' % (image_file, str(image_data.shape)))\n",
    "      dataset[num_images, :, :] = image_data\n",
    "      num_images = num_images + 1\n",
    "    except IOError as e:\n",
    "      print('Could not read:', image_file, ':', e, '- it\\'s ok, skipping.')\n",
    "    \n",
    "  dataset = dataset[0:num_images, :, :]\n",
    "  if num_images < min_num_images:\n",
    "    raise Exception('Many fewer images than expected: %d < %d' %\n",
    "                    (num_images, min_num_images))\n",
    "    \n",
    "  print('Full dataset tensor:', dataset.shape)\n",
    "  print('Mean:', np.mean(dataset))\n",
    "  print('Standard deviation:', np.std(dataset))\n",
    "  return dataset\n",
    "        \n",
    "def maybe_pickle(data_folders, min_num_images_per_class, force=False):\n",
    "  dataset_names = []\n",
    "  for folder in data_folders:\n",
    "    set_filename = folder + '.pickle'\n",
    "    dataset_names.append(set_filename)\n",
    "    if os.path.exists(set_filename) and not force:\n",
    "      # You may override by setting force=True.\n",
    "      print('%s already present - Skipping pickling.' % set_filename)\n",
    "    else:\n",
    "      print('Pickling %s.' % set_filename)\n",
    "      dataset = load_letter(folder, min_num_images_per_class)\n",
    "      try:\n",
    "        with open(set_filename, 'wb') as f:\n",
    "          pickle.dump(dataset, f, pickle.HIGHEST_PROTOCOL)\n",
    "      except Exception as e:\n",
    "        print('Unable to save data to', set_filename, ':', e)\n",
    "  \n",
    "  return dataset_names\n",
    "\n",
    "train_folder_name = \"/home/goncalo/udacity_tensorflow_assigmetns/1-NotMNIST/notMNIST_large/\"\n",
    "train_folders = [train_folder_name + x for x in (\"A\", \"B\", \"C\", \"D\", \"E\", \"F\", \"G\", \"H\", \"I\", \"J\")]\n",
    "test_folder_name = \"/home/goncalo/udacity_tensorflow_assigmetns/1-NotMNIST/notMNIST_small/\"\n",
    "test_folders = [test_folder_name + x for x in (\"A\", \"B\", \"C\", \"D\", \"E\", \"F\", \"G\", \"H\", \"I\", \"J\")]\n",
    "\n",
    "train_datasets = maybe_pickle(train_folders, 45000)\n",
    "test_datasets = maybe_pickle(test_folders, 1800)"
   ]
  },
  {
   "cell_type": "code",
   "execution_count": 7,
   "metadata": {
    "collapsed": false
   },
   "outputs": [
    {
     "data": {
      "text/plain": [
       "['H', 'G', 'B', 'J', 'F', 'D', 'C', 'A', 'E', 'I']"
      ]
     },
     "execution_count": 7,
     "metadata": {},
     "output_type": "execute_result"
    }
   ],
   "source": [
    "os.listdir(\"/home/goncalo/udacity_tensorflow_assigmetns/1-NotMNIST/notMNIST_large/\")"
   ]
  },
  {
   "cell_type": "code",
   "execution_count": 37,
   "metadata": {
    "collapsed": false
   },
   "outputs": [
    {
     "data": {
      "image/png": "[encoded data removed]",
      "text/plain": [
       "<matplotlib.figure.Figure at 0x7f02f9b506d0>"
      ]
     },
     "metadata": {},
     "output_type": "display_data"
    }
   ],
   "source": [
    "f = plt.figure()\n",
    "for i in range(0,10):\n",
    "    plot = f.add_subplot(1,10,i+1)\n",
    "    plt.imshow(np.load(train_datasets[0])[randrange(0,50)])\n",
    "    plot.axes.get_xaxis().set_visible(False)\n",
    "    plot.axes.get_yaxis().set_visible(False)\n",
    "plt.show()\n",
    "    "
   ]
  },
  {
   "cell_type": "code",
   "execution_count": null,
   "metadata": {
    "collapsed": true
   },
   "outputs": [],
   "source": []
  }
 ],
 "metadata": {
  "kernelspec": {
   "display_name": "Python 2",
   "language": "python",
   "name": "python2"
  },
  "language_info": {
   "codemirror_mode": {
    "name": "ipython",
    "version": 2
   },
   "file_extension": ".py",
   "mimetype": "text/x-python",
   "name": "python",
   "nbconvert_exporter": "python",
   "pygments_lexer": "ipython2",
   "version": "2.7.12"
  }
 },
 "nbformat": 4,
 "nbformat_minor": 1
}
