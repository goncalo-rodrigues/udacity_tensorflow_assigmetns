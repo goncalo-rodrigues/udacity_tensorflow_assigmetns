{
 "cells": [
  {
   "cell_type": "code",
   "execution_count": 1,
   "metadata": {
    "collapsed": true
   },
   "outputs": [],
   "source": [
    "# These are all the modules we'll be using later. Make sure you can import them\n",
    "# before proceeding further.\n",
    "from __future__ import print_function\n",
    "import numpy as np\n",
    "import tensorflow as tf\n",
    "from six.moves import cPickle as pickle"
   ]
  },
  {
   "cell_type": "code",
   "execution_count": 2,
   "metadata": {
    "collapsed": false
   },
   "outputs": [
    {
     "name": "stdout",
     "output_type": "stream",
     "text": [
      "Training set (200000, 28, 28) (200000,)\n",
      "Validation set (10000, 28, 28) (10000,)\n",
      "Test set (10000, 28, 28) (10000,)\n"
     ]
    }
   ],
   "source": [
    "pickle_file = '../notMNIST.pickle'\n",
    "\n",
    "with open(pickle_file, 'rb') as f:\n",
    "  save = pickle.load(f)\n",
    "  train_dataset = save['train_dataset']\n",
    "  train_labels = save['train_labels']\n",
    "  valid_dataset = save['valid_dataset']\n",
    "  valid_labels = save['valid_labels']\n",
    "  test_dataset = save['test_dataset']\n",
    "  test_labels = save['test_labels']\n",
    "  del save  # hint to help gc free up memory\n",
    "  print('Training set', train_dataset.shape, train_labels.shape)\n",
    "  print('Validation set', valid_dataset.shape, valid_labels.shape)\n",
    "  print('Test set', test_dataset.shape, test_labels.shape)"
   ]
  },
  {
   "cell_type": "code",
   "execution_count": 3,
   "metadata": {
    "collapsed": false
   },
   "outputs": [
    {
     "name": "stdout",
     "output_type": "stream",
     "text": [
      "Training set (200000, 784) (200000, 10)\n",
      "Validation set (10000, 784) (10000, 10)\n",
      "Test set (10000, 784) (10000, 10)\n"
     ]
    }
   ],
   "source": [
    "image_size = 28\n",
    "num_labels = 10\n",
    "\n",
    "def reformat(dataset, labels):\n",
    "  dataset = dataset.reshape((-1, image_size * image_size)).astype(np.float32)\n",
    "  # Map 1 to [0.0, 1.0, 0.0 ...], 2 to [0.0, 0.0, 1.0 ...]\n",
    "  labels = (np.arange(num_labels) == labels[:,None]).astype(np.float32)\n",
    "  return dataset, labels\n",
    "train_dataset, train_labels = reformat(train_dataset, train_labels)\n",
    "valid_dataset, valid_labels = reformat(valid_dataset, valid_labels)\n",
    "test_dataset, test_labels = reformat(test_dataset, test_labels)\n",
    "print('Training set', train_dataset.shape, train_labels.shape)\n",
    "print('Validation set', valid_dataset.shape, valid_labels.shape)\n",
    "print('Test set', test_dataset.shape, test_labels.shape)"
   ]
  },
  {
   "cell_type": "code",
   "execution_count": 4,
   "metadata": {
    "collapsed": true
   },
   "outputs": [],
   "source": [
    "def accuracy(predictions, labels):\n",
    "  return (100.0 * np.sum(np.argmax(predictions, 1) == np.argmax(labels, 1))\n",
    "          / predictions.shape[0])"
   ]
  },
  {
   "cell_type": "code",
   "execution_count": 49,
   "metadata": {
    "collapsed": true
   },
   "outputs": [],
   "source": [
    "batch_size = 128\n",
    "beta = 0.01\n",
    "\n",
    "graph = tf.Graph()\n",
    "with graph.as_default():\n",
    "\n",
    "  # Input data. For the training data, we use a placeholder that will be fed\n",
    "  # at run time with a training minibatch.\n",
    "  tf_train_dataset = tf.placeholder(tf.float32,\n",
    "                                    shape=(batch_size, image_size * image_size))\n",
    "  tf_train_labels = tf.placeholder(tf.float32, shape=(batch_size, num_labels))\n",
    "  tf_valid_dataset = tf.constant(valid_dataset)\n",
    "  tf_test_dataset = tf.constant(test_dataset)\n",
    "  \n",
    "  # Variables.\n",
    "  weights = tf.Variable(\n",
    "    tf.truncated_normal([image_size * image_size, num_labels]))\n",
    "  biases = tf.Variable(tf.zeros([num_labels]))\n",
    "  \n",
    "  # Training computation.\n",
    "  logits = tf.matmul(tf_train_dataset, weights) + biases\n",
    "  loss = tf.reduce_mean(\n",
    "    tf.nn.softmax_cross_entropy_with_logits(logits, tf_train_labels)) + beta*tf.nn.l2_loss(weights)\n",
    "  \n",
    "  # Optimizer.\n",
    "  optimizer = tf.train.GradientDescentOptimizer(0.5).minimize(loss)\n",
    "  \n",
    "  # Predictions for the training, validation, and test data.\n",
    "  train_prediction = tf.nn.softmax(logits)\n",
    "  valid_prediction = tf.nn.softmax(\n",
    "    tf.matmul(tf_valid_dataset, weights) + biases)\n",
    "  test_prediction = tf.nn.softmax(tf.matmul(tf_test_dataset, weights) + biases)"
   ]
  },
  {
   "cell_type": "code",
   "execution_count": 50,
   "metadata": {
    "collapsed": false
   },
   "outputs": [
    {
     "name": "stdout",
     "output_type": "stream",
     "text": [
      "Initialized\n",
      "Minibatch loss at step 0: 46.467625\n",
      "Minibatch accuracy: 12.5%\n",
      "Validation accuracy: 12.4%\n",
      "Minibatch loss at step 100: 11.781839\n",
      "Minibatch accuracy: 73.4%\n",
      "Validation accuracy: 73.0%\n",
      "Minibatch loss at step 200: 4.831479\n",
      "Minibatch accuracy: 75.8%\n",
      "Validation accuracy: 76.6%\n",
      "Minibatch loss at step 300: 2.088650\n",
      "Minibatch accuracy: 82.0%\n",
      "Validation accuracy: 80.2%\n",
      "Minibatch loss at step 400: 1.082435\n",
      "Minibatch accuracy: 82.8%\n",
      "Validation accuracy: 81.3%\n",
      "Minibatch loss at step 500: 0.978718\n",
      "Minibatch accuracy: 82.8%\n",
      "Validation accuracy: 81.7%\n",
      "Minibatch loss at step 600: 1.087825\n",
      "Minibatch accuracy: 74.2%\n",
      "Validation accuracy: 80.6%\n",
      "Minibatch loss at step 700: 1.129576\n",
      "Minibatch accuracy: 71.1%\n",
      "Validation accuracy: 81.6%\n",
      "Minibatch loss at step 800: 0.727669\n",
      "Minibatch accuracy: 84.4%\n",
      "Validation accuracy: 78.1%\n",
      "Minibatch loss at step 900: 0.749297\n",
      "Minibatch accuracy: 78.9%\n",
      "Validation accuracy: 82.2%\n",
      "Minibatch loss at step 1000: 0.877003\n",
      "Minibatch accuracy: 80.5%\n",
      "Validation accuracy: 80.5%\n",
      "Test accuracy: 87.0%\n"
     ]
    }
   ],
   "source": [
    "num_steps = 1001\n",
    "\n",
    "with tf.Session(graph=graph) as session:\n",
    "  tf.initialize_all_variables().run()\n",
    "  print(\"Initialized\")\n",
    "  for step in range(num_steps):\n",
    "    # Pick an offset within the training data, which has been randomized.\n",
    "    # Note: we could use better randomization across epochs.\n",
    "    offset = (step * batch_size) % (train_labels.shape[0] - batch_size)\n",
    "    # Generate a minibatch.\n",
    "    batch_data = train_dataset[offset:(offset + batch_size), :]\n",
    "    batch_labels = train_labels[offset:(offset + batch_size), :]\n",
    "    # Prepare a dictionary telling the session where to feed the minibatch.\n",
    "    # The key of the dictionary is the placeholder node of the graph to be fed,\n",
    "    # and the value is the numpy array to feed to it.\n",
    "    feed_dict = {tf_train_dataset : batch_data, tf_train_labels : batch_labels}\n",
    "    _, l, predictions = session.run(\n",
    "      [optimizer, loss, train_prediction], feed_dict=feed_dict)\n",
    "    if (step % 100 == 0):\n",
    "      print(\"Minibatch loss at step %d: %f\" % (step, l))\n",
    "      print(\"Minibatch accuracy: %.1f%%\" % accuracy(predictions, batch_labels))\n",
    "      print(\"Validation accuracy: %.1f%%\" % accuracy(\n",
    "        valid_prediction.eval(), valid_labels))\n",
    "  print(\"Test accuracy: %.1f%%\" % accuracy(test_prediction.eval(), test_labels))"
   ]
  },
  {
   "cell_type": "code",
   "execution_count": 24,
   "metadata": {
    "collapsed": true
   },
   "outputs": [],
   "source": [
    "# neural network with 1 hidden layer\n",
    "batch_size = 128\n",
    "hidden_layer = 1024\n",
    "beta = 0.001\n",
    "graph = tf.Graph()\n",
    "with graph.as_default():\n",
    "\n",
    "  # Input data. For the training data, we use a placeholder that will be fed\n",
    "  # at run time with a training minibatch.\n",
    "  tf_train_dataset = tf.placeholder(tf.float32,\n",
    "                                    shape=(batch_size, image_size * image_size))\n",
    "  tf_train_labels = tf.placeholder(tf.float32, shape=(batch_size, num_labels))\n",
    "  tf_valid_dataset = tf.constant(valid_dataset)\n",
    "  tf_test_dataset = tf.constant(test_dataset)\n",
    "  \n",
    "  # Variables.\n",
    "  weights = tf.Variable(\n",
    "    tf.truncated_normal([image_size * image_size, hidden_layer]))\n",
    "  biases = tf.Variable(tf.zeros([hidden_layer]))\n",
    "    \n",
    "  weights2 = tf.Variable(\n",
    "    tf.truncated_normal([hidden_layer, num_labels]))\n",
    "  biases2 = tf.Variable(tf.zeros([num_labels]))\n",
    "  \n",
    "  logits1 = tf.matmul(tf_train_dataset, weights) + biases\n",
    "  relus = tf.nn.relu(logits1)\n",
    "  # Training computation.\n",
    "  logits2 = tf.matmul(relus, weights2) + biases2\n",
    "  loss = tf.reduce_mean(\n",
    "    tf.nn.softmax_cross_entropy_with_logits(logits2, tf_train_labels)) + beta*tf.nn.l2_loss(weights2)\n",
    "  \n",
    "#   # Optimizer.\n",
    "  optimizer = tf.train.GradientDescentOptimizer(0.5).minimize(loss)\n",
    "  \n",
    "  # Predictions for the training, validation, and test data.\n",
    "  train_prediction = tf.nn.softmax(logits2)\n",
    "  valid_prediction = tf.nn.softmax(\n",
    "    tf.matmul(tf.nn.relu(tf.matmul(tf_valid_dataset, weights) + biases), weights2) + biases2)\n",
    "  test_prediction = tf.nn.softmax(\n",
    "    tf.matmul(tf.nn.relu(tf.matmul(tf_test_dataset, weights) + biases), weights2) + biases2)"
   ]
  },
  {
   "cell_type": "code",
   "execution_count": 25,
   "metadata": {
    "collapsed": false
   },
   "outputs": [
    {
     "name": "stdout",
     "output_type": "stream",
     "text": [
      "Initialized\n",
      "Minibatch loss at step 0: 297.283997\n",
      "Minibatch accuracy: 13.3%\n",
      "Validation accuracy: 34.9%\n",
      "Minibatch loss at step 500: 13.579014\n",
      "Minibatch accuracy: 80.5%\n",
      "Validation accuracy: 80.4%\n",
      "Minibatch loss at step 1000: 9.070143\n",
      "Minibatch accuracy: 75.8%\n",
      "Validation accuracy: 79.9%\n",
      "Minibatch loss at step 1500: 7.339707\n",
      "Minibatch accuracy: 82.0%\n",
      "Validation accuracy: 78.4%\n",
      "Minibatch loss at step 2000: 3.733864\n",
      "Minibatch accuracy: 82.0%\n",
      "Validation accuracy: 82.3%\n",
      "Minibatch loss at step 2500: 5.442884\n",
      "Minibatch accuracy: 78.1%\n",
      "Validation accuracy: 81.3%\n",
      "Minibatch loss at step 3000: 6.095272\n",
      "Minibatch accuracy: 80.5%\n",
      "Validation accuracy: 79.2%\n",
      "Test accuracy: 85.9%\n"
     ]
    }
   ],
   "source": [
    "num_steps = 3001\n",
    "\n",
    "with tf.Session(graph=graph) as session:\n",
    "  tf.initialize_all_variables().run()\n",
    "  print(\"Initialized\")\n",
    "  for step in range(num_steps):\n",
    "    # Pick an offset within the training data, which has been randomized.\n",
    "    # Note: we could use better randomization across epochs.\n",
    "    offset = (step * batch_size) % (train_labels.shape[0] - batch_size)\n",
    "    # Generate a minibatch.\n",
    "    batch_data = train_dataset[offset:(offset + batch_size), :]\n",
    "    batch_labels = train_labels[offset:(offset + batch_size), :]\n",
    "    # Prepare a dictionary telling the session where to feed the minibatch.\n",
    "    # The key of the dictionary is the placeholder node of the graph to be fed,\n",
    "    # and the value is the numpy array to feed to it.\n",
    "    feed_dict = {tf_train_dataset : batch_data, tf_train_labels : batch_labels}\n",
    "    _, l, predictions = session.run(\n",
    "      [optimizer, loss, train_prediction], feed_dict=feed_dict)\n",
    "    if (step % 500 == 0):\n",
    "      print(\"Minibatch loss at step %d: %f\" % (step, l))\n",
    "      print(\"Minibatch accuracy: %.1f%%\" % accuracy(predictions, batch_labels))\n",
    "      print(\"Validation accuracy: %.1f%%\" % accuracy(\n",
    "        valid_prediction.eval(), valid_labels))\n",
    "  print(\"Test accuracy: %.1f%%\" % accuracy(test_prediction.eval(), test_labels))"
   ]
  },
  {
   "cell_type": "code",
   "execution_count": 26,
   "metadata": {
    "collapsed": false
   },
   "outputs": [
    {
     "name": "stdout",
     "output_type": "stream",
     "text": [
      "Initialized\n",
      "Minibatch loss at step 0: 328.787842\n",
      "Minibatch accuracy: 12.5%\n",
      "Validation accuracy: 42.7%\n",
      "Minibatch loss at step 500: 2.556619\n",
      "Minibatch accuracy: 100.0%\n",
      "Validation accuracy: 76.7%\n",
      "Minibatch loss at step 1000: 1.546507\n",
      "Minibatch accuracy: 100.0%\n",
      "Validation accuracy: 76.7%\n",
      "Minibatch loss at step 1500: 0.936198\n",
      "Minibatch accuracy: 100.0%\n",
      "Validation accuracy: 76.7%\n",
      "Minibatch loss at step 2000: 0.567104\n",
      "Minibatch accuracy: 100.0%\n",
      "Validation accuracy: 76.7%\n",
      "Minibatch loss at step 2500: 0.343793\n",
      "Minibatch accuracy: 100.0%\n",
      "Validation accuracy: 76.7%\n",
      "Test accuracy: 83.6%\n"
     ]
    }
   ],
   "source": [
    "# Problem 2 - Overfitting\n",
    "\n",
    "num_steps = 3001\n",
    "num_diff_batches = 10\n",
    "\n",
    "with tf.Session(graph=graph) as session:\n",
    "  tf.initialize_all_variables().run()\n",
    "  print(\"Initialized\")\n",
    "  for step in range(num_steps):\n",
    "    # Pick an offset within the training data, which has been randomized.\n",
    "    # Note: we could use better randomization across epochs.\n",
    "    offset = (step * batch_size) % (batch_size *10)\n",
    "    # Generate a minibatch.\n",
    "    batch_data = train_dataset[offset:(offset + batch_size), :]\n",
    "    batch_labels = train_labels[offset:(offset + batch_size), :]\n",
    "    # Prepare a dictionary telling the session where to feed the minibatch.\n",
    "    # The key of the dictionary is the placeholder node of the graph to be fed,\n",
    "    # and the value is the numpy array to feed to it.\n",
    "    feed_dict = {tf_train_dataset : batch_data, tf_train_labels : batch_labels}\n",
    "    _, l, prediction = session.run(\n",
    "      [optimizer, loss, train_prediction], feed_dict=feed_dict)\n",
    "\n",
    "    if (step % 500 == 0):\n",
    "      print(\"Minibatch loss at step %d: %f\" % (step, l))\n",
    "      print(\"Minibatch accuracy: %.1f%%\" % accuracy(prediction, batch_labels))\n",
    "      print(\"Validation accuracy: %.1f%%\" % accuracy(\n",
    "        valid_prediction.eval(), valid_labels))\n",
    "  print(\"Test accuracy: %.1f%%\" % accuracy(test_prediction.eval(), test_labels))"
   ]
  },
  {
   "cell_type": "code",
   "execution_count": 31,
   "metadata": {
    "collapsed": true
   },
   "outputs": [],
   "source": [
    "# Introducing dropout\n",
    "batch_size = 128\n",
    "hidden_layer = 1024\n",
    "dropout_prob = 0.5\n",
    "graph = tf.Graph()\n",
    "with graph.as_default():\n",
    "\n",
    "  # Input data. For the training data, we use a placeholder that will be fed\n",
    "  # at run time with a training minibatch.\n",
    "  tf_train_dataset = tf.placeholder(tf.float32,\n",
    "                                    shape=(batch_size, image_size * image_size))\n",
    "  tf_train_labels = tf.placeholder(tf.float32, shape=(batch_size, num_labels))\n",
    "  tf_valid_dataset = tf.constant(valid_dataset)\n",
    "  tf_test_dataset = tf.constant(test_dataset)\n",
    "  \n",
    "  # Input -> Hidden Layer\n",
    "  hidden_weights = tf.Variable(\n",
    "    tf.truncated_normal([image_size * image_size, hidden_layer]))\n",
    "  hidden_biases = tf.Variable(tf.zeros([hidden_layer]))\n",
    "  hidden_weights_after_dropout = tf.nn.dropout(hidden_weights, dropout_prob)\n",
    "  hidden_logits = tf.matmul(tf_train_dataset, hidden_weights_after_dropout) + hidden_biases\n",
    "  relus = tf.nn.relu(hidden_logits)\n",
    "\n",
    "  # Hidden Layer -> Output\n",
    "  weights = tf.Variable(\n",
    "    tf.truncated_normal([hidden_layer, num_labels]))\n",
    "  biases = tf.Variable(tf.zeros([num_labels]))\n",
    "  weights_after_dropout = tf.nn.dropout(weights, dropout_prob)\n",
    "  logits = tf.matmul(relus, weights_after_dropout) + biases\n",
    "\n",
    "\n",
    "  # Training computation.\n",
    "\n",
    "  loss = tf.reduce_mean(\n",
    "    tf.nn.softmax_cross_entropy_with_logits(logits, tf_train_labels))\n",
    "  \n",
    "#   # Optimizer.\n",
    "  optimizer = tf.train.GradientDescentOptimizer(0.5).minimize(loss)\n",
    "  \n",
    "  # Predictions for the training, validation, and test data.\n",
    "  train_prediction = tf.nn.softmax(logits)\n",
    "  valid_prediction = tf.nn.softmax(\n",
    "    tf.matmul(tf.nn.relu(tf.matmul(tf_valid_dataset, hidden_weights) + hidden_biases), weights) + biases)\n",
    "  test_prediction = tf.nn.softmax(\n",
    "    tf.matmul(tf.nn.relu(tf.matmul(tf_test_dataset, hidden_weights) + hidden_biases), weights) + biases)"
   ]
  },
  {
   "cell_type": "code",
   "execution_count": 32,
   "metadata": {
    "collapsed": false
   },
   "outputs": [
    {
     "name": "stdout",
     "output_type": "stream",
     "text": [
      "Initialized\n",
      "Minibatch loss at step 0: 721.862610\n",
      "Minibatch accuracy: 6.2%\n",
      "Validation accuracy: 23.6%\n",
      "Minibatch loss at step 500: 6.151092\n",
      "Minibatch accuracy: 97.7%\n",
      "Validation accuracy: 79.5%\n",
      "Minibatch loss at step 1000: 9.199118\n",
      "Minibatch accuracy: 96.1%\n",
      "Validation accuracy: 79.7%\n",
      "Minibatch loss at step 1500: 2.196368\n",
      "Minibatch accuracy: 97.7%\n",
      "Validation accuracy: 80.1%\n",
      "Minibatch loss at step 2000: 5.956400\n",
      "Minibatch accuracy: 98.4%\n",
      "Validation accuracy: 79.7%\n",
      "Minibatch loss at step 2500: 3.318865\n",
      "Minibatch accuracy: 97.7%\n",
      "Validation accuracy: 79.7%\n",
      "Minibatch loss at step 3000: 0.000000\n",
      "Minibatch accuracy: 100.0%\n",
      "Validation accuracy: 80.0%\n",
      "Test accuracy: 87.2%\n"
     ]
    }
   ],
   "source": [
    "num_steps = 3001\n",
    "\n",
    "with tf.Session(graph=graph) as session:\n",
    "  tf.initialize_all_variables().run()\n",
    "  print(\"Initialized\")\n",
    "  for step in range(num_steps):\n",
    "    # Pick an offset within the training data, which has been randomized.\n",
    "    # Note: we could use better randomization across epochs.\n",
    "    offset = (step * batch_size) % (batch_size * 10)\n",
    "    # Generate a minibatch.\n",
    "    batch_data = train_dataset[offset:(offset + batch_size), :]\n",
    "    batch_labels = train_labels[offset:(offset + batch_size), :]\n",
    "    # Prepare a dictionary telling the session where to feed the minibatch.\n",
    "    # The key of the dictionary is the placeholder node of the graph to be fed,\n",
    "    # and the value is the numpy array to feed to it.\n",
    "    feed_dict = {tf_train_dataset : batch_data, tf_train_labels : batch_labels}\n",
    "    _, l, predictions = session.run(\n",
    "      [optimizer, loss, train_prediction], feed_dict=feed_dict)\n",
    "    if (step % 500 == 0):\n",
    "      print(\"Minibatch loss at step %d: %f\" % (step, l))\n",
    "      print(\"Minibatch accuracy: %.1f%%\" % accuracy(predictions, batch_labels))\n",
    "      print(\"Validation accuracy: %.1f%%\" % accuracy(\n",
    "        valid_prediction.eval(), valid_labels))\n",
    "  print(\"Test accuracy: %.1f%%\" % accuracy(test_prediction.eval(), test_labels))"
   ]
  },
  {
   "cell_type": "code",
   "execution_count": 106,
   "metadata": {
    "collapsed": false
   },
   "outputs": [],
   "source": [
    "# Deep network\n",
    "batch_size = 1024\n",
    "layers = [1024, 1024, num_labels]\n",
    "dropout_prob = 0.5\n",
    "graph = tf.Graph()\n",
    "with graph.as_default():\n",
    "\n",
    "  # Input data. For the training data, we use a placeholder that will be fed\n",
    "  # at run time with a training minibatch.\n",
    "  tf_train_dataset = tf.placeholder(tf.float32,\n",
    "                                    shape=(batch_size, image_size * image_size), name=\"train_dataset\")\n",
    "  tf_train_labels = tf.placeholder(tf.float32, shape=(batch_size, num_labels), name=\"train_labels\")\n",
    "  tf_valid_dataset = tf.constant(valid_dataset)\n",
    "  tf_test_dataset = tf.constant(test_dataset)\n",
    "  \n",
    "  # hidden layers\n",
    "  weights = []\n",
    "  biases = []\n",
    "  logits = []\n",
    "  relus = []\n",
    "  n = image_size*image_size\n",
    "  for i in range(len(layers)):\n",
    "      m = layers[i]\n",
    "      name_w, name_l = \"Weights\" + str(i), \"Logits\" + str(i)\n",
    "      weights.append(tf.Variable(tf.truncated_normal([n, m]), name=name_w))\n",
    "      biases.append(tf.Variable(tf.zeros([m])))\n",
    "      if (i==0):\n",
    "        logits.append(tf.matmul(tf_train_dataset, weights[0], name=name_l) + biases[0])\n",
    "      else:\n",
    "        logits.append(tf.matmul(relus[i-1], weights[i], name=name_l) + biases[i])\n",
    "      relus.append(tf.nn.relu(logits[i]))\n",
    "      n = layers[i]\n",
    "\n",
    "#   hidden_weights = tf.Variable(\n",
    "#     tf.truncated_normal([image_size * image_size, hidden_layer]))\n",
    "#   hidden_biases = tf.Variable(tf.zeros([hidden_layer]))\n",
    "#   hidden_weights_after_dropout = tf.nn.dropout(hidden_weights, dropout_prob)\n",
    "#   hidden_logits = tf.matmul(tf_train_dataset, hidden_weights_after_dropout) + hidden_biases\n",
    "#   relus = tf.nn.relu(hidden_logits)\n",
    "\n",
    "#   # Last Hidden Layer -> Output\n",
    "#   weights = tf.Variable(\n",
    "#     tf.truncated_normal([hidden_layer, num_labels]))\n",
    "#   biases = tf.Variable(tf.zeros([num_labels]))\n",
    "#   weights_after_dropout = tf.nn.dropout(weights, dropout_prob)\n",
    "#   logits = tf.matmul(relus, weights_after_dropout) + biases\n",
    "\n",
    "\n",
    "  # Training computation.\n",
    "\n",
    "  loss = tf.reduce_mean(\n",
    "    tf.nn.softmax_cross_entropy_with_logits(logits[-1], tf_train_labels), name=\"loss\")\n",
    "  global_step = tf.Variable(0)\n",
    "  starter_learning_rate = 0.01\n",
    "  learning_rate = tf.train.exponential_decay(starter_learning_rate, global_step, 1000, 0.90, staircase=True)\n",
    "#   # Optimizer.\n",
    "  optimizer = tf.train.GradientDescentOptimizer(learning_rate).minimize(loss, global_step = global_step)\n",
    "  \n",
    "#   # Predictions for the training, validation, and test data.\n",
    "  train_prediction = tf.nn.softmax(logits[-1])\n",
    "\n",
    "#   valid_prediction = tf.nn.softmax(\n",
    "#     tf.matmul(tf.nn.relu(tf.matmul(tf_valid_dataset, hidden_weights) + hidden_biases), weights) + biases)\n",
    "#   test_prediction = tf.nn.softmax(\n",
    "#     tf.matmul(tf.nn.relu(tf.matmul(tf_test_dataset, hidden_weights) + hidden_biases), weights) + biases)"
   ]
  },
  {
   "cell_type": "code",
   "execution_count": 107,
   "metadata": {
    "collapsed": false,
    "scrolled": true
   },
   "outputs": [
    {
     "name": "stdout",
     "output_type": "stream",
     "text": [
      "Initialized\n",
      "Minibatch loss at step 0: 7844.619141\n",
      "Minibatch accuracy: 9.7%\n",
      "Minibatch loss at step 300: 167.178864\n",
      "Minibatch accuracy: 81.7%\n",
      "Minibatch loss at step 600: 83.500320\n",
      "Minibatch accuracy: 84.6%\n",
      "Minibatch loss at step 900: 70.737381\n",
      "Minibatch accuracy: 84.6%\n",
      "Minibatch loss at step 1200: 43.078529\n",
      "Minibatch accuracy: 86.3%\n",
      "Minibatch loss at step 1500: 37.826939\n",
      "Minibatch accuracy: 85.4%\n",
      "Minibatch loss at step 1800: 23.932320\n",
      "Minibatch accuracy: 88.4%\n",
      "Minibatch loss at step 2100: 37.806168\n",
      "Minibatch accuracy: 84.7%\n",
      "Minibatch loss at step 2400: 20.553539\n",
      "Minibatch accuracy: 86.2%\n",
      "Minibatch loss at step 2700: 25.627275\n",
      "Minibatch accuracy: 84.7%\n",
      "Minibatch loss at step 3000: 19.762720\n",
      "Minibatch accuracy: 85.9%\n"
     ]
    }
   ],
   "source": [
    "num_steps = 3001\n",
    "\n",
    "with tf.Session(graph=graph) as session:\n",
    "  tf.initialize_all_variables().run()\n",
    "  print(\"Initialized\")\n",
    "  train_writer = tf.train.SummaryWriter('.',\n",
    "                                      session.graph)\n",
    "  for step in range(num_steps):\n",
    "    # Pick an offset within the training data, which has been randomized.\n",
    "    # Note: we could use better randomization across epochs.\n",
    "    offset = (step * batch_size) % (train_labels.shape[0] - batch_size)\n",
    "    # Generate a minibatch.\n",
    "    batch_data = train_dataset[offset:(offset + batch_size), :]\n",
    "    batch_labels = train_labels[offset:(offset + batch_size), :]\n",
    "    # Prepare a dictionary telling the session where to feed the minibatch.\n",
    "    # The key of the dictionary is the placeholder node of the graph to be fed,\n",
    "    # and the value is the numpy array to feed to it.\n",
    "    feed_dict = {tf_train_dataset : batch_data, tf_train_labels : batch_labels}\n",
    "    _, l, predictions = session.run(\n",
    "      [optimizer, loss, train_prediction], feed_dict=feed_dict)\n",
    "    if (step % (num_steps/10) == 0):\n",
    "      print(\"Minibatch loss at step %d: %f\" % (step, l))\n",
    "      print(\"Minibatch accuracy: %.1f%%\" % accuracy(predictions, batch_labels))\n",
    "#       print(\"Validation accuracy: %.1f%%\" % accuracy(\n",
    "#         valid_prediction.eval(), valid_labels))\n",
    "#   print(\"Test accuracy: %.1f%%\" % accuracy(test_prediction.eval(), test_labels))"
   ]
  },
  {
   "cell_type": "code",
   "execution_count": 105,
   "metadata": {
    "collapsed": false
   },
   "outputs": [
    {
     "data": {
      "text/plain": [
       "[<tf.Tensor 'add:0' shape=(128, 1024) dtype=float32>,\n",
       " <tf.Tensor 'add_1:0' shape=(128, 1024) dtype=float32>,\n",
       " <tf.Tensor 'add_2:0' shape=(128, 10) dtype=float32>]"
      ]
     },
     "execution_count": 105,
     "metadata": {},
     "output_type": "execute_result"
    }
   ],
   "source": [
    "logits"
   ]
  },
  {
   "cell_type": "code",
   "execution_count": null,
   "metadata": {
    "collapsed": true
   },
   "outputs": [],
   "source": []
  }
 ],
 "metadata": {
  "kernelspec": {
   "display_name": "Python 2",
   "language": "python",
   "name": "python2"
  },
  "language_info": {
   "codemirror_mode": {
    "name": "ipython",
    "version": 2
   },
   "file_extension": ".py",
   "mimetype": "text/x-python",
   "name": "python",
   "nbconvert_exporter": "python",
   "pygments_lexer": "ipython2",
   "version": "2.7.6"
  }
 },
 "nbformat": 4,
 "nbformat_minor": 1
}
